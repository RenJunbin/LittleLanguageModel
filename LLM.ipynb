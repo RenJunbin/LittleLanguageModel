{
 "cells": [
  {
   "cell_type": "code",
   "execution_count": 2,
   "metadata": {},
   "outputs": [],
   "source": [
    "with open(\"./WWOO.txt\", 'r', encoding='utf-8') as f:\n",
    "    text = f.read()"
   ]
  },
  {
   "cell_type": "code",
   "execution_count": 3,
   "metadata": {},
   "outputs": [
    {
     "name": "stdout",
     "output_type": "stream",
     "text": [
      "208138\n"
     ]
    }
   ],
   "source": [
    "print(len(text))"
   ]
  },
  {
   "cell_type": "code",
   "execution_count": 4,
   "metadata": {},
   "outputs": [
    {
     "name": "stdout",
     "output_type": "stream",
     "text": [
      "\n",
      " !#&()*,-.012359:;?ABCDEFGHIJKLMNOPQRSTUVWXYZ[]abcdefghijklmnopqrstuvwxyz—‘’“”﻿\n",
      "80\n"
     ]
    }
   ],
   "source": [
    "chars = sorted(set(text))\n",
    "vocab_size = len(chars)\n",
    "print(\"\".join(chars))\n",
    "print(vocab_size)"
   ]
  },
  {
   "cell_type": "code",
   "execution_count": 5,
   "metadata": {},
   "outputs": [
    {
     "name": "stdout",
     "output_type": "stream",
     "text": [
      "[55, 56, 56, 1, 67, 55, 52, 65, 52]\n",
      "hii there\n"
     ]
    }
   ],
   "source": [
    "stoi = {ch: i for i, ch in enumerate(chars)}\n",
    "itos = {i: ch for i, ch in enumerate(chars)}\n",
    "\n",
    "encode = lambda s: [stoi[c] for c in s]\n",
    "decode = lambda l: ''.join([itos[i] for i in l])\n",
    "\n",
    "print(encode(\"hii there\"))\n",
    "print(decode(encode(\"hii there\")))"
   ]
  },
  {
   "cell_type": "code",
   "execution_count": 6,
   "metadata": {},
   "outputs": [
    {
     "name": "stdout",
     "output_type": "stream",
     "text": [
      "torch.Size([208138]) torch.int64\n"
     ]
    }
   ],
   "source": [
    "import torch\n",
    "data = torch.tensor(encode(text), dtype=torch.long)\n",
    "print(data.shape, data.dtype)"
   ]
  },
  {
   "cell_type": "code",
   "execution_count": 7,
   "metadata": {},
   "outputs": [],
   "source": [
    "n = int(.9 * len(data))\n",
    "train_data = data[:n]\n",
    "val_data = data[n:]"
   ]
  },
  {
   "cell_type": "code",
   "execution_count": 8,
   "metadata": {},
   "outputs": [
    {
     "data": {
      "text/plain": [
       "tensor([79, 39, 56, 67, 59, 52, 17,  1, 39])"
      ]
     },
     "execution_count": 8,
     "metadata": {},
     "output_type": "execute_result"
    }
   ],
   "source": [
    "block_size = 8\n",
    "train_data[:block_size+1]"
   ]
  },
  {
   "cell_type": "code",
   "execution_count": 9,
   "metadata": {},
   "outputs": [
    {
     "name": "stdout",
     "output_type": "stream",
     "text": [
      "When input is tensor([79]) the target: 39\n",
      "When input is tensor([79, 39]) the target: 56\n",
      "When input is tensor([79, 39, 56]) the target: 67\n",
      "When input is tensor([79, 39, 56, 67]) the target: 59\n",
      "When input is tensor([79, 39, 56, 67, 59]) the target: 52\n",
      "When input is tensor([79, 39, 56, 67, 59, 52]) the target: 17\n",
      "When input is tensor([79, 39, 56, 67, 59, 52, 17]) the target: 1\n",
      "When input is tensor([79, 39, 56, 67, 59, 52, 17,  1]) the target: 39\n"
     ]
    }
   ],
   "source": [
    "x = train_data[:block_size]\n",
    "y = train_data[1:block_size+1]\n",
    "\n",
    "for t in range(block_size):\n",
    "    context = x[:t+1]\n",
    "    target = y[t]\n",
    "    print(f\"When input is {context} the target: {target}\")"
   ]
  },
  {
   "cell_type": "code",
   "execution_count": 10,
   "metadata": {},
   "outputs": [
    {
     "name": "stdout",
     "output_type": "stream",
     "text": [
      "inputs:\n",
      "torch.Size([4, 8])\n",
      "tensor([[57, 62, 68, 65, 61, 52, 72,  1],\n",
      "        [39, 55, 52, 72,  1, 66, 52, 52],\n",
      "        [ 8, 78,  1, 51, 52, 50, 59, 48],\n",
      "        [68, 65, 61, 52, 51,  1, 67, 62]])\n",
      "targets:\n",
      "torch.Size([4, 8])\n",
      "tensor([[62, 68, 65, 61, 52, 72,  1, 70],\n",
      "        [55, 52, 72,  1, 66, 52, 52, 60],\n",
      "        [78,  1, 51, 52, 50, 59, 48, 65],\n",
      "        [65, 61, 52, 51,  1, 67, 62,  1]])\n",
      "-----\n",
      "when input is [57] the target: 62\n",
      "when input is [57, 62] the target: 68\n",
      "when input is [57, 62, 68] the target: 65\n",
      "when input is [57, 62, 68, 65] the target: 61\n",
      "when input is [57, 62, 68, 65, 61] the target: 52\n",
      "when input is [57, 62, 68, 65, 61, 52] the target: 72\n",
      "when input is [57, 62, 68, 65, 61, 52, 72] the target: 1\n",
      "when input is [57, 62, 68, 65, 61, 52, 72, 1] the target: 70\n",
      "when input is [39] the target: 55\n",
      "when input is [39, 55] the target: 52\n",
      "when input is [39, 55, 52] the target: 72\n",
      "when input is [39, 55, 52, 72] the target: 1\n",
      "when input is [39, 55, 52, 72, 1] the target: 66\n",
      "when input is [39, 55, 52, 72, 1, 66] the target: 52\n",
      "when input is [39, 55, 52, 72, 1, 66, 52] the target: 52\n",
      "when input is [39, 55, 52, 72, 1, 66, 52, 52] the target: 60\n",
      "when input is [8] the target: 78\n",
      "when input is [8, 78] the target: 1\n",
      "when input is [8, 78, 1] the target: 51\n",
      "when input is [8, 78, 1, 51] the target: 52\n",
      "when input is [8, 78, 1, 51, 52] the target: 50\n",
      "when input is [8, 78, 1, 51, 52, 50] the target: 59\n",
      "when input is [8, 78, 1, 51, 52, 50, 59] the target: 48\n",
      "when input is [8, 78, 1, 51, 52, 50, 59, 48] the target: 65\n",
      "when input is [68] the target: 65\n",
      "when input is [68, 65] the target: 61\n",
      "when input is [68, 65, 61] the target: 52\n",
      "when input is [68, 65, 61, 52] the target: 51\n",
      "when input is [68, 65, 61, 52, 51] the target: 1\n",
      "when input is [68, 65, 61, 52, 51, 1] the target: 67\n",
      "when input is [68, 65, 61, 52, 51, 1, 67] the target: 62\n",
      "when input is [68, 65, 61, 52, 51, 1, 67, 62] the target: 1\n"
     ]
    }
   ],
   "source": [
    "torch.manual_seed(1337)\n",
    "batch_size = 4\n",
    "block_size = 8\n",
    "\n",
    "def get_batch(split):\n",
    "    data = train_data if split == 'train' else val_data\n",
    "    ix = torch.randint(len(data)-block_size, (batch_size,))\n",
    "    x = torch.stack([data[i: i+block_size] for i in ix])\n",
    "    y = torch.stack([data[i+1: i+block_size+1] for i in ix])\n",
    "    return x, y\n",
    "\n",
    "xb, yb = get_batch('train')\n",
    "print('inputs:')\n",
    "print(xb.shape)\n",
    "print(xb)\n",
    "print('targets:')\n",
    "print(yb.shape)\n",
    "print(yb)\n",
    "\n",
    "print('-----')\n",
    "\n",
    "for b in range(batch_size):\n",
    "    for t in range(block_size):\n",
    "        context = xb[b, :t+1]\n",
    "        target = yb[b, t]\n",
    "        print(f\"when input is {context.tolist()} the target: {target}\")"
   ]
  },
  {
   "cell_type": "code",
   "execution_count": 11,
   "metadata": {},
   "outputs": [
    {
     "name": "stdout",
     "output_type": "stream",
     "text": [
      "torch.Size([32, 80])\n",
      "tensor(4.7535, grad_fn=<NllLossBackward0>)\n",
      "\n",
      "ZXe﻿fG.:]2BDXNe5KUUSDv!#eIVj.:Hnzvl.?zU1aD!JR3,!J*LjViFX;2APU9Ngh’KXRVNeJlR,yh)N,eRuMQm!stb0BJE!“?‘5\n"
     ]
    }
   ],
   "source": [
    "import torch\n",
    "import torch.nn as nn\n",
    "from torch.nn import functional as F\n",
    "torch.manual_seed(1337)\n",
    "\n",
    "class BigramLanguageModel(nn.Module):\n",
    "\n",
    "    def __init__(self, vocab_size):\n",
    "        super().__init__()\n",
    "        self.token_embedding_table = nn.Embedding(vocab_size, vocab_size)\n",
    "    def forward(self, idx, targets=None):\n",
    "        logits = self.token_embedding_table(idx)    # (B, T, C)\n",
    "        \n",
    "        if targets is None:\n",
    "            loss = None\n",
    "        else:\n",
    "            B, T, C = logits.shape\n",
    "            logits = logits.view(B*T, C)\n",
    "            targets = targets.view(B*T)\n",
    "            loss = F.cross_entropy(logits, targets)\n",
    "        \n",
    "        return logits, loss\n",
    "    \n",
    "    def generate(self, idx, max_new_tokens):\n",
    "        for _ in range(max_new_tokens):\n",
    "            logits, loss = self(idx)\n",
    "            logits = logits[:, -1, :]\n",
    "            probs = F.softmax(logits, dim=-1)\n",
    "            idx_next = torch.multinomial(probs, num_samples=1)\n",
    "            idx = torch.cat((idx, idx_next), dim=1)\n",
    "        return idx\n",
    "\n",
    "m = BigramLanguageModel(vocab_size)\n",
    "logits, loss = m(xb, yb)\n",
    "print(logits.shape)\n",
    "print(loss)\n",
    "\n",
    "idx = torch.zeros((1,1), dtype=torch.long)\n",
    "print(decode(m.generate(idx, max_new_tokens=100)[0].tolist()))"
   ]
  },
  {
   "cell_type": "code",
   "execution_count": 12,
   "metadata": {},
   "outputs": [
    {
     "name": "stderr",
     "output_type": "stream",
     "text": [
      "/home/styaeng/miniconda3/envs/junbin/lib/python3.8/site-packages/tqdm/auto.py:21: TqdmWarning: IProgress not found. Please update jupyter and ipywidgets. See https://ipywidgets.readthedocs.io/en/stable/user_install.html\n",
      "  from .autonotebook import tqdm as notebook_tqdm\n"
     ]
    }
   ],
   "source": [
    "optimizer = torch.optim.AdamW(m.parameters(), lr=1e-3)"
   ]
  },
  {
   "cell_type": "code",
   "execution_count": 13,
   "metadata": {},
   "outputs": [
    {
     "name": "stdout",
     "output_type": "stream",
     "text": [
      "3.8679556846618652\n"
     ]
    }
   ],
   "source": [
    "batch_size = 32\n",
    "for steps in range(1000):\n",
    "    xb, yb = get_batch('train')\n",
    "\n",
    "    logits, loss = m(xb, yb)\n",
    "    optimizer.zero_grad(set_to_none=True)   # what the function of .zero_grad?\n",
    "    loss.backward()\n",
    "    optimizer.step()\n",
    "\n",
    "print(loss.item())  # what the function of the api .item() ?"
   ]
  },
  {
   "cell_type": "code",
   "execution_count": 14,
   "metadata": {},
   "outputs": [
    {
     "name": "stdout",
     "output_type": "stream",
     "text": [
      "\n",
      "wha,3[pr2q0)5&’ny5D)wKY‘E’”3fAJnEev3V”\n",
      "g?n*3[ WS*‘Em,FXA]qt3UbI;GkPp35nj—UUIGUluiUx‘zl.M?veX**q﻿r Bq0[‘zR*1As-&(&hEek cvL”NeaEn)nj1lzC5DX:ol*Dj0(By pzerrured(BPCZNQ)uY.”uLA’Mc J l’2lpnXGbEJRQUV3kai—i!”seU!nPEn0AQPO9vBg’iCn*i:ur oK?*vUwH-#fR.hola*v2W(g k;SwZic\n",
      "anjAPzVB\n",
      "gCUXs]mkJR5Du!Q.”uit:-SPJWDthJ\n",
      "9zluLo1P﻿qKdfiqt;ic(vtmevU“G)1Sr3f K&YN—R1hR1SUbA*leokucR*U5nj;B9etq‘5.OhxQ‘Ef#?Z*v#&2g5Aer ullp]Q:kYeI?#z ,,F2N2-pJ1GwsU5J[!XzdQDA2:2ALiCsP)ieXerN,FXeXzJ JSSQ:ciIGqkI;K*icfnqltBw\n",
      "5s:y o;‘E01CMS5(B3W)\n"
     ]
    }
   ],
   "source": [
    "idx = torch.zeros((1,1), dtype=torch.long)\n",
    "print(decode(m.generate(idx, max_new_tokens=500)[0].tolist()))"
   ]
  },
  {
   "cell_type": "code",
   "execution_count": 31,
   "metadata": {},
   "outputs": [
    {
     "data": {
      "text/plain": [
       "torch.Size([4, 8, 2])"
      ]
     },
     "execution_count": 31,
     "metadata": {},
     "output_type": "execute_result"
    }
   ],
   "source": [
    "torch.manual_seed(1337)\n",
    "B, T, C = 4, 8, 2\n",
    "x = torch.randn(B, T, C)\n",
    "x.shape"
   ]
  },
  {
   "cell_type": "code",
   "execution_count": 32,
   "metadata": {},
   "outputs": [],
   "source": [
    "xbow = torch.zeros((B, T, C))\n",
    "for b in range(B):\n",
    "    for t in range(T):\n",
    "        xprev = x[b,:t+1]\n",
    "        xbow[b, t] = torch.mean(xprev, 0)"
   ]
  },
  {
   "cell_type": "code",
   "execution_count": 44,
   "metadata": {},
   "outputs": [
    {
     "data": {
      "text/plain": [
       "True"
      ]
     },
     "execution_count": 44,
     "metadata": {},
     "output_type": "execute_result"
    }
   ],
   "source": [
    "tril = torch.tril(torch.ones(T, T))\n",
    "wei = torch.zeros((T, T))\n",
    "wei = wei.masked_fill(tril==0, float('-inf'))\n",
    "wei = F.softmax(wei, dim=-1)\n",
    "xbow2 = wei @ x\n",
    "torch.allclose(xbow, xbow2, rtol=1e-4)"
   ]
  },
  {
   "cell_type": "code",
   "execution_count": null,
   "metadata": {},
   "outputs": [],
   "source": []
  }
 ],
 "metadata": {
  "kernelspec": {
   "display_name": "junbin",
   "language": "python",
   "name": "python3"
  },
  "language_info": {
   "codemirror_mode": {
    "name": "ipython",
    "version": 3
   },
   "file_extension": ".py",
   "mimetype": "text/x-python",
   "name": "python",
   "nbconvert_exporter": "python",
   "pygments_lexer": "ipython3",
   "version": "3.8.18"
  }
 },
 "nbformat": 4,
 "nbformat_minor": 2
}
